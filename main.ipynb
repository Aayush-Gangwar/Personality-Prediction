{
  "cells": [
    {
      "cell_type": "markdown",
      "source": [
        "Import Libraries"
      ],
      "metadata": {
        "id": "rZu9fXgwE60p"
      }
    },
    {
      "cell_type": "code",
      "source": [
        "import warnings\n",
        "warnings.filterwarnings('ignore')\n",
        "from google.colab import drive\n",
        "drive.mount('/content/drive')\n",
        "\n",
        "import numpy as np\n",
        "import pandas as pd \n",
        "from nltk.corpus import stopwords\n",
        "from sklearn.feature_extraction.text import TfidfVectorizer \n",
        "from sklearn.metrics import f1_score # better metric \n",
        "from sklearn.linear_model import LogisticRegression\n",
        "from sklearn.model_selection import StratifiedKFold, cross_validate\n",
        "from sklearn.svm import SVC,LinearSVC\n",
        "import matplotlib.pyplot as plt\n",
        "import seaborn as sns\n",
        "from wordcloud import WordCloud\n",
        "import re\n",
        "import string \n",
        "import warnings \n",
        "warnings.filterwarnings('ignore')\n",
        "import spacy\n",
        "from spacy.lang.en.stop_words import STOP_WORDS\n",
        "stopwords = STOP_WORDS\n",
        "nlp = spacy.load('en_core_web_sm')\n",
        "from sklearn.metrics import accuracy_score,log_loss\n",
        "from sklearn.metrics import classification_report, confusion_matrix\n",
        "from sklearn.metrics import make_scorer"
      ],
      "metadata": {
        "id": "hQLw3YI46m3h",
        "colab": {
          "base_uri": "https://localhost:8080/"
        },
        "outputId": "9af11dd6-72f2-4159-82ea-49cf9c055c70"
      },
      "execution_count": 1,
      "outputs": [
        {
          "output_type": "stream",
          "name": "stdout",
          "text": [
            "Drive already mounted at /content/drive; to attempt to forcibly remount, call drive.mount(\"/content/drive\", force_remount=True).\n"
          ]
        }
      ]
    },
    {
      "cell_type": "code",
      "source": [
        "data_path=\"/content/drive/MyDrive/Colab Notebooks/data/Personalitydataset/mbti_1.csv\"\n",
        "df=pd.read_csv(data_path)\n",
        "df.head()"
      ],
      "metadata": {
        "id": "lY9hFWvk61OU",
        "colab": {
          "base_uri": "https://localhost:8080/",
          "height": 206
        },
        "outputId": "de75b906-7915-467c-b7ef-99c3b3a2e888"
      },
      "execution_count": 2,
      "outputs": [
        {
          "output_type": "execute_result",
          "data": {
            "text/plain": [
              "   type                                              posts\n",
              "0  INFJ  'http://www.youtube.com/watch?v=qsXHcwe3krw|||...\n",
              "1  ENTP  'I'm finding the lack of me in these posts ver...\n",
              "2  INTP  'Good one  _____   https://www.youtube.com/wat...\n",
              "3  INTJ  'Dear INTP,   I enjoyed our conversation the o...\n",
              "4  ENTJ  'You're fired.|||That's another silly misconce..."
            ],
            "text/html": [
              "\n",
              "  <div id=\"df-0602c69f-a4c5-4141-bc45-274f0e0666f4\">\n",
              "    <div class=\"colab-df-container\">\n",
              "      <div>\n",
              "<style scoped>\n",
              "    .dataframe tbody tr th:only-of-type {\n",
              "        vertical-align: middle;\n",
              "    }\n",
              "\n",
              "    .dataframe tbody tr th {\n",
              "        vertical-align: top;\n",
              "    }\n",
              "\n",
              "    .dataframe thead th {\n",
              "        text-align: right;\n",
              "    }\n",
              "</style>\n",
              "<table border=\"1\" class=\"dataframe\">\n",
              "  <thead>\n",
              "    <tr style=\"text-align: right;\">\n",
              "      <th></th>\n",
              "      <th>type</th>\n",
              "      <th>posts</th>\n",
              "    </tr>\n",
              "  </thead>\n",
              "  <tbody>\n",
              "    <tr>\n",
              "      <th>0</th>\n",
              "      <td>INFJ</td>\n",
              "      <td>'http://www.youtube.com/watch?v=qsXHcwe3krw|||...</td>\n",
              "    </tr>\n",
              "    <tr>\n",
              "      <th>1</th>\n",
              "      <td>ENTP</td>\n",
              "      <td>'I'm finding the lack of me in these posts ver...</td>\n",
              "    </tr>\n",
              "    <tr>\n",
              "      <th>2</th>\n",
              "      <td>INTP</td>\n",
              "      <td>'Good one  _____   https://www.youtube.com/wat...</td>\n",
              "    </tr>\n",
              "    <tr>\n",
              "      <th>3</th>\n",
              "      <td>INTJ</td>\n",
              "      <td>'Dear INTP,   I enjoyed our conversation the o...</td>\n",
              "    </tr>\n",
              "    <tr>\n",
              "      <th>4</th>\n",
              "      <td>ENTJ</td>\n",
              "      <td>'You're fired.|||That's another silly misconce...</td>\n",
              "    </tr>\n",
              "  </tbody>\n",
              "</table>\n",
              "</div>\n",
              "      <button class=\"colab-df-convert\" onclick=\"convertToInteractive('df-0602c69f-a4c5-4141-bc45-274f0e0666f4')\"\n",
              "              title=\"Convert this dataframe to an interactive table.\"\n",
              "              style=\"display:none;\">\n",
              "        \n",
              "  <svg xmlns=\"http://www.w3.org/2000/svg\" height=\"24px\"viewBox=\"0 0 24 24\"\n",
              "       width=\"24px\">\n",
              "    <path d=\"M0 0h24v24H0V0z\" fill=\"none\"/>\n",
              "    <path d=\"M18.56 5.44l.94 2.06.94-2.06 2.06-.94-2.06-.94-.94-2.06-.94 2.06-2.06.94zm-11 1L8.5 8.5l.94-2.06 2.06-.94-2.06-.94L8.5 2.5l-.94 2.06-2.06.94zm10 10l.94 2.06.94-2.06 2.06-.94-2.06-.94-.94-2.06-.94 2.06-2.06.94z\"/><path d=\"M17.41 7.96l-1.37-1.37c-.4-.4-.92-.59-1.43-.59-.52 0-1.04.2-1.43.59L10.3 9.45l-7.72 7.72c-.78.78-.78 2.05 0 2.83L4 21.41c.39.39.9.59 1.41.59.51 0 1.02-.2 1.41-.59l7.78-7.78 2.81-2.81c.8-.78.8-2.07 0-2.86zM5.41 20L4 18.59l7.72-7.72 1.47 1.35L5.41 20z\"/>\n",
              "  </svg>\n",
              "      </button>\n",
              "      \n",
              "  <style>\n",
              "    .colab-df-container {\n",
              "      display:flex;\n",
              "      flex-wrap:wrap;\n",
              "      gap: 12px;\n",
              "    }\n",
              "\n",
              "    .colab-df-convert {\n",
              "      background-color: #E8F0FE;\n",
              "      border: none;\n",
              "      border-radius: 50%;\n",
              "      cursor: pointer;\n",
              "      display: none;\n",
              "      fill: #1967D2;\n",
              "      height: 32px;\n",
              "      padding: 0 0 0 0;\n",
              "      width: 32px;\n",
              "    }\n",
              "\n",
              "    .colab-df-convert:hover {\n",
              "      background-color: #E2EBFA;\n",
              "      box-shadow: 0px 1px 2px rgba(60, 64, 67, 0.3), 0px 1px 3px 1px rgba(60, 64, 67, 0.15);\n",
              "      fill: #174EA6;\n",
              "    }\n",
              "\n",
              "    [theme=dark] .colab-df-convert {\n",
              "      background-color: #3B4455;\n",
              "      fill: #D2E3FC;\n",
              "    }\n",
              "\n",
              "    [theme=dark] .colab-df-convert:hover {\n",
              "      background-color: #434B5C;\n",
              "      box-shadow: 0px 1px 3px 1px rgba(0, 0, 0, 0.15);\n",
              "      filter: drop-shadow(0px 1px 2px rgba(0, 0, 0, 0.3));\n",
              "      fill: #FFFFFF;\n",
              "    }\n",
              "  </style>\n",
              "\n",
              "      <script>\n",
              "        const buttonEl =\n",
              "          document.querySelector('#df-0602c69f-a4c5-4141-bc45-274f0e0666f4 button.colab-df-convert');\n",
              "        buttonEl.style.display =\n",
              "          google.colab.kernel.accessAllowed ? 'block' : 'none';\n",
              "\n",
              "        async function convertToInteractive(key) {\n",
              "          const element = document.querySelector('#df-0602c69f-a4c5-4141-bc45-274f0e0666f4');\n",
              "          const dataTable =\n",
              "            await google.colab.kernel.invokeFunction('convertToInteractive',\n",
              "                                                     [key], {});\n",
              "          if (!dataTable) return;\n",
              "\n",
              "          const docLinkHtml = 'Like what you see? Visit the ' +\n",
              "            '<a target=\"_blank\" href=https://colab.research.google.com/notebooks/data_table.ipynb>data table notebook</a>'\n",
              "            + ' to learn more about interactive tables.';\n",
              "          element.innerHTML = '';\n",
              "          dataTable['output_type'] = 'display_data';\n",
              "          await google.colab.output.renderOutput(dataTable, element);\n",
              "          const docLink = document.createElement('div');\n",
              "          docLink.innerHTML = docLinkHtml;\n",
              "          element.appendChild(docLink);\n",
              "        }\n",
              "      </script>\n",
              "    </div>\n",
              "  </div>\n",
              "  "
            ]
          },
          "metadata": {},
          "execution_count": 2
        }
      ]
    },
    {
      "cell_type": "markdown",
      "source": [
        "Pre-Processing "
      ],
      "metadata": {
        "id": "eK_huKaWEQQk"
      }
    },
    {
      "cell_type": "code",
      "source": [
        "\n",
        "def preprocess_text(df, remove_special=True):\n",
        "    texts = df['posts'].copy()\n",
        "    labels = df['type'].copy()\n",
        "\n",
        "    #Remove links \n",
        "    df[\"posts\"] = df[\"posts\"].apply(lambda x: re.sub(r'https?:\\/\\/.*?[\\s+]', '', x.replace(\"|\",\" \") + \" \"))\n",
        "    \n",
        "    #Keep the End Of Sentence characters\n",
        "    df[\"posts\"] = df[\"posts\"].apply(lambda x: re.sub(r'\\.', ' EOSTokenDot ', x + \" \"))\n",
        "    df[\"posts\"] = df[\"posts\"].apply(lambda x: re.sub(r'\\?', ' EOSTokenQuest ', x + \" \"))\n",
        "    df[\"posts\"] = df[\"posts\"].apply(lambda x: re.sub(r'!', ' EOSTokenExs ', x + \" \"))\n",
        "    \n",
        "    #Strip Punctation\n",
        "    df[\"posts\"] = df[\"posts\"].apply(lambda x: re.sub(r'[\\.+]', \".\",x))\n",
        "\n",
        "    #Remove multiple fullstops\n",
        "    df[\"posts\"] = df[\"posts\"].apply(lambda x: re.sub(r'[^\\w\\s]','',x))\n",
        "\n",
        "    #Remove Non-words\n",
        "    df[\"posts\"] = df[\"posts\"].apply(lambda x: re.sub(r'[^a-zA-Z\\s]','',x))\n",
        "\n",
        "    #Convert posts to lowercase\n",
        "    df[\"posts\"] = df[\"posts\"].apply(lambda x: x.lower())\n",
        "\n",
        "    #Remove multiple letter repeating words\n",
        "    df[\"posts\"] = df[\"posts\"].apply(lambda x: re.sub(r'([a-z])\\1{2,}[\\s|\\w]*','',x)) \n",
        "\n",
        "    #Remove very short or long words\n",
        "    df[\"posts\"] = df[\"posts\"].apply(lambda x: re.sub(r'(\\b\\w{0,3})?\\b','',x)) \n",
        "    df[\"posts\"] = df[\"posts\"].apply(lambda x: re.sub(r'(\\b\\w{30,1000})?\\b','',x))\n",
        "\n",
        "    #Remove MBTI Personality Words - crutial in order to get valid model accuracy estimation for unseen data. \n",
        "    if remove_special:\n",
        "        pers_types = ['INFP' ,'INFJ', 'INTP', 'INTJ', 'ENTP', 'ENFP', 'ISTP' ,'ISFP' ,'ENTJ', 'ISTJ','ENFJ', 'ISFJ' ,'ESTP', 'ESFP' ,'ESFJ' ,'ESTJ']\n",
        "        pers_types = [p.lower() for p in pers_types]\n",
        "        p = re.compile(\"(\" + \"|\".join(pers_types) + \")\")\n",
        "    \n",
        "    return df\n",
        "def preprocess(train):\n",
        "\n",
        "    doc = nlp(train, disable = ['ner', 'parser'])\n",
        "\n",
        "    lemmas = [token.lemma_ for token in doc]\n",
        "\n",
        "    a_lemma = [lemma for lemma in lemmas if lemma.isalpha() and lemma not in stopwords ]\n",
        "    return ' ' .join(a_lemma)"
      ],
      "metadata": {
        "id": "6yuuUgi5A-JX",
        "colab": {
          "base_uri": "https://localhost:8080/"
        },
        "outputId": "f6006ed6-7f9a-4558-fb8d-a47cac981dbd"
      },
      "execution_count": 3,
      "outputs": [
        {
          "output_type": "stream",
          "name": "stdout",
          "text": [
            "[nltk_data] Downloading package wordnet to /root/nltk_data...\n",
            "[nltk_data]   Package wordnet is already up-to-date!\n"
          ]
        }
      ]
    },
    {
      "cell_type": "code",
      "source": [
        "# Making use of the clean_data function\n",
        "all_data=df\n",
        "all_data['posts2']= all_data['posts'].apply(preprocess)\n",
        "all_data['posts3']=[''.join(post) for post in all_data['posts2']]"
      ],
      "metadata": {
        "id": "qwwUk_L37eKG"
      },
      "execution_count": 4,
      "outputs": []
    },
    {
      "cell_type": "code",
      "source": [
        "all_data.head()"
      ],
      "metadata": {
        "id": "W1R8Xuyp7gY6",
        "colab": {
          "base_uri": "https://localhost:8080/",
          "height": 206
        },
        "outputId": "dc32384e-e992-406d-9bb8-b7e56b341990"
      },
      "execution_count": 5,
      "outputs": [
        {
          "output_type": "execute_result",
          "data": {
            "text/plain": [
              "   type                                              posts  \\\n",
              "0  INFJ  'http://www.youtube.com/watch?v=qsXHcwe3krw|||...   \n",
              "1  ENTP  'I'm finding the lack of me in these posts ver...   \n",
              "2  INTP  'Good one  _____   https://www.youtube.com/wat...   \n",
              "3  INTJ  'Dear INTP,   I enjoyed our conversation the o...   \n",
              "4  ENTJ  'You're fired.|||That's another silly misconce...   \n",
              "\n",
              "                                              posts2  \\\n",
              "0  intj moment sportscent play life change experi...   \n",
              "1  find lack post bore position example girlfrien...   \n",
              "2  good course know blessing absolutely positive ...   \n",
              "3  dear INTP enjoy conversation day Esoteric gabb...   \n",
              "4  silly misconception approach logically key unl...   \n",
              "\n",
              "                                              posts3  \n",
              "0  intj moment sportscent play life change experi...  \n",
              "1  find lack post bore position example girlfrien...  \n",
              "2  good course know blessing absolutely positive ...  \n",
              "3  dear INTP enjoy conversation day Esoteric gabb...  \n",
              "4  silly misconception approach logically key unl...  "
            ],
            "text/html": [
              "\n",
              "  <div id=\"df-dc692606-80a3-4ec1-82b0-4761a5387275\">\n",
              "    <div class=\"colab-df-container\">\n",
              "      <div>\n",
              "<style scoped>\n",
              "    .dataframe tbody tr th:only-of-type {\n",
              "        vertical-align: middle;\n",
              "    }\n",
              "\n",
              "    .dataframe tbody tr th {\n",
              "        vertical-align: top;\n",
              "    }\n",
              "\n",
              "    .dataframe thead th {\n",
              "        text-align: right;\n",
              "    }\n",
              "</style>\n",
              "<table border=\"1\" class=\"dataframe\">\n",
              "  <thead>\n",
              "    <tr style=\"text-align: right;\">\n",
              "      <th></th>\n",
              "      <th>type</th>\n",
              "      <th>posts</th>\n",
              "      <th>posts2</th>\n",
              "      <th>posts3</th>\n",
              "    </tr>\n",
              "  </thead>\n",
              "  <tbody>\n",
              "    <tr>\n",
              "      <th>0</th>\n",
              "      <td>INFJ</td>\n",
              "      <td>'http://www.youtube.com/watch?v=qsXHcwe3krw|||...</td>\n",
              "      <td>intj moment sportscent play life change experi...</td>\n",
              "      <td>intj moment sportscent play life change experi...</td>\n",
              "    </tr>\n",
              "    <tr>\n",
              "      <th>1</th>\n",
              "      <td>ENTP</td>\n",
              "      <td>'I'm finding the lack of me in these posts ver...</td>\n",
              "      <td>find lack post bore position example girlfrien...</td>\n",
              "      <td>find lack post bore position example girlfrien...</td>\n",
              "    </tr>\n",
              "    <tr>\n",
              "      <th>2</th>\n",
              "      <td>INTP</td>\n",
              "      <td>'Good one  _____   https://www.youtube.com/wat...</td>\n",
              "      <td>good course know blessing absolutely positive ...</td>\n",
              "      <td>good course know blessing absolutely positive ...</td>\n",
              "    </tr>\n",
              "    <tr>\n",
              "      <th>3</th>\n",
              "      <td>INTJ</td>\n",
              "      <td>'Dear INTP,   I enjoyed our conversation the o...</td>\n",
              "      <td>dear INTP enjoy conversation day Esoteric gabb...</td>\n",
              "      <td>dear INTP enjoy conversation day Esoteric gabb...</td>\n",
              "    </tr>\n",
              "    <tr>\n",
              "      <th>4</th>\n",
              "      <td>ENTJ</td>\n",
              "      <td>'You're fired.|||That's another silly misconce...</td>\n",
              "      <td>silly misconception approach logically key unl...</td>\n",
              "      <td>silly misconception approach logically key unl...</td>\n",
              "    </tr>\n",
              "  </tbody>\n",
              "</table>\n",
              "</div>\n",
              "      <button class=\"colab-df-convert\" onclick=\"convertToInteractive('df-dc692606-80a3-4ec1-82b0-4761a5387275')\"\n",
              "              title=\"Convert this dataframe to an interactive table.\"\n",
              "              style=\"display:none;\">\n",
              "        \n",
              "  <svg xmlns=\"http://www.w3.org/2000/svg\" height=\"24px\"viewBox=\"0 0 24 24\"\n",
              "       width=\"24px\">\n",
              "    <path d=\"M0 0h24v24H0V0z\" fill=\"none\"/>\n",
              "    <path d=\"M18.56 5.44l.94 2.06.94-2.06 2.06-.94-2.06-.94-.94-2.06-.94 2.06-2.06.94zm-11 1L8.5 8.5l.94-2.06 2.06-.94-2.06-.94L8.5 2.5l-.94 2.06-2.06.94zm10 10l.94 2.06.94-2.06 2.06-.94-2.06-.94-.94-2.06-.94 2.06-2.06.94z\"/><path d=\"M17.41 7.96l-1.37-1.37c-.4-.4-.92-.59-1.43-.59-.52 0-1.04.2-1.43.59L10.3 9.45l-7.72 7.72c-.78.78-.78 2.05 0 2.83L4 21.41c.39.39.9.59 1.41.59.51 0 1.02-.2 1.41-.59l7.78-7.78 2.81-2.81c.8-.78.8-2.07 0-2.86zM5.41 20L4 18.59l7.72-7.72 1.47 1.35L5.41 20z\"/>\n",
              "  </svg>\n",
              "      </button>\n",
              "      \n",
              "  <style>\n",
              "    .colab-df-container {\n",
              "      display:flex;\n",
              "      flex-wrap:wrap;\n",
              "      gap: 12px;\n",
              "    }\n",
              "\n",
              "    .colab-df-convert {\n",
              "      background-color: #E8F0FE;\n",
              "      border: none;\n",
              "      border-radius: 50%;\n",
              "      cursor: pointer;\n",
              "      display: none;\n",
              "      fill: #1967D2;\n",
              "      height: 32px;\n",
              "      padding: 0 0 0 0;\n",
              "      width: 32px;\n",
              "    }\n",
              "\n",
              "    .colab-df-convert:hover {\n",
              "      background-color: #E2EBFA;\n",
              "      box-shadow: 0px 1px 2px rgba(60, 64, 67, 0.3), 0px 1px 3px 1px rgba(60, 64, 67, 0.15);\n",
              "      fill: #174EA6;\n",
              "    }\n",
              "\n",
              "    [theme=dark] .colab-df-convert {\n",
              "      background-color: #3B4455;\n",
              "      fill: #D2E3FC;\n",
              "    }\n",
              "\n",
              "    [theme=dark] .colab-df-convert:hover {\n",
              "      background-color: #434B5C;\n",
              "      box-shadow: 0px 1px 3px 1px rgba(0, 0, 0, 0.15);\n",
              "      filter: drop-shadow(0px 1px 2px rgba(0, 0, 0, 0.3));\n",
              "      fill: #FFFFFF;\n",
              "    }\n",
              "  </style>\n",
              "\n",
              "      <script>\n",
              "        const buttonEl =\n",
              "          document.querySelector('#df-dc692606-80a3-4ec1-82b0-4761a5387275 button.colab-df-convert');\n",
              "        buttonEl.style.display =\n",
              "          google.colab.kernel.accessAllowed ? 'block' : 'none';\n",
              "\n",
              "        async function convertToInteractive(key) {\n",
              "          const element = document.querySelector('#df-dc692606-80a3-4ec1-82b0-4761a5387275');\n",
              "          const dataTable =\n",
              "            await google.colab.kernel.invokeFunction('convertToInteractive',\n",
              "                                                     [key], {});\n",
              "          if (!dataTable) return;\n",
              "\n",
              "          const docLinkHtml = 'Like what you see? Visit the ' +\n",
              "            '<a target=\"_blank\" href=https://colab.research.google.com/notebooks/data_table.ipynb>data table notebook</a>'\n",
              "            + ' to learn more about interactive tables.';\n",
              "          element.innerHTML = '';\n",
              "          dataTable['output_type'] = 'display_data';\n",
              "          await google.colab.output.renderOutput(dataTable, element);\n",
              "          const docLink = document.createElement('div');\n",
              "          docLink.innerHTML = docLinkHtml;\n",
              "          element.appendChild(docLink);\n",
              "        }\n",
              "      </script>\n",
              "    </div>\n",
              "  </div>\n",
              "  "
            ]
          },
          "metadata": {},
          "execution_count": 5
        }
      ]
    },
    {
      "cell_type": "code",
      "source": [
        "#Total number of posts for each personality type\n",
        "personality_types = all_data['type'].value_counts()"
      ],
      "metadata": {
        "id": "Gobiai-SQg-b"
      },
      "execution_count": 6,
      "outputs": []
    },
    {
      "cell_type": "code",
      "source": [
        "#Check the ditribution of MBTI personality types\n",
        "plt.figure(figsize=(12,4))\n",
        "sns.barplot(personality_types.index, personality_types.values, alpha=0.8)\n",
        "plt.ylabel('Number of posts', fontsize=12)\n",
        "plt.xlabel('Personality Types', fontsize=12)\n",
        "plt.title('Total posts for each of the personality types')\n",
        "plt.show()"
      ],
      "metadata": {
        "id": "ZIHbWConQeF8",
        "colab": {
          "base_uri": "https://localhost:8080/",
          "height": 298
        },
        "outputId": "b19f9c92-f78f-4ab9-9250-3d15167a53c5"
      },
      "execution_count": 7,
      "outputs": [
        {
          "output_type": "display_data",
          "data": {
            "text/plain": [
              "<Figure size 864x288 with 1 Axes>"
            ],
            "image/png": "[encoded data removed]"
          },
          "metadata": {
            "needs_background": "light"
          }
        }
      ]
    },
    {
      "cell_type": "markdown",
      "source": [
        "Splitting into train and test"
      ],
      "metadata": {
        "id": "A3WkbK2-EJPC"
      }
    },
    {
      "cell_type": "code",
      "source": [
        "# splitting data to training and testing data set...\n",
        "from sklearn.model_selection import train_test_split\n",
        "def splitting(file1,testratio):\n",
        "  p={}\n",
        "  for k in file1:\n",
        "    if(k!=\"type\"):\n",
        "      p.update({k:file1[k]})\n",
        "  X = pd.DataFrame(p)\n",
        "  # X=X.values\n",
        "  Y= file1[\"type\"]\n",
        "  X_train, X_test, y_train, y_test = train_test_split(X, Y, test_size = testratio,stratify=Y,random_state=42)\n",
        "  return  X_train, X_test, y_train, y_test\n",
        "\n",
        "X_train, X_test, y_train, y_test = splitting (all_data,0.3)"
      ],
      "metadata": {
        "id": "W4d8pPHEDLcP"
      },
      "execution_count": 8,
      "outputs": []
    },
    {
      "cell_type": "code",
      "source": [
        "df_train=pd.concat([y_train,X_train],axis=1)\n",
        "df_train.head()\n",
        "df_test=pd.concat([y_test,X_test],axis=1)\n",
        "df_test.head()"
      ],
      "metadata": {
        "id": "aF6V6ziY7iML",
        "colab": {
          "base_uri": "https://localhost:8080/",
          "height": 206
        },
        "outputId": "f073baf2-8be2-4ec0-cfe0-8ee0d3f40e84"
      },
      "execution_count": 9,
      "outputs": [
        {
          "output_type": "execute_result",
          "data": {
            "text/plain": [
              "      type                                              posts  \\\n",
              "4511  ENTJ  'Thanks to all you guys, I really thought I wa...   \n",
              "744   ISTP  'Haha! That must have been it... I need to com...   \n",
              "7533  INTP  'When I was younger I was more daring. I lost ...   \n",
              "876   INFP  'i have not found love. i have high standards....   \n",
              "701   INFJ  'Which fictional character(s) do you relate to...   \n",
              "\n",
              "                                                 posts2  \\\n",
              "4511  thank guy think feel good understand struggle ...   \n",
              "744   haha need come chat want discuss type ball mis...   \n",
              "7533  young daring lose license speed violation sing...   \n",
              "876   find love high depend like friendly try know b...   \n",
              "701   fictional relate character consider ENFPs sure...   \n",
              "\n",
              "                                                 posts3  \n",
              "4511  thank guy think feel good understand struggle ...  \n",
              "744   haha need come chat want discuss type ball mis...  \n",
              "7533  young daring lose license speed violation sing...  \n",
              "876   find love high depend like friendly try know b...  \n",
              "701   fictional relate character consider ENFPs sure...  "
            ],
            "text/html": [
              "\n",
              "  <div id=\"df-372bc8bc-b635-400c-b416-f05ac777dccc\">\n",
              "    <div class=\"colab-df-container\">\n",
              "      <div>\n",
              "<style scoped>\n",
              "    .dataframe tbody tr th:only-of-type {\n",
              "        vertical-align: middle;\n",
              "    }\n",
              "\n",
              "    .dataframe tbody tr th {\n",
              "        vertical-align: top;\n",
              "    }\n",
              "\n",
              "    .dataframe thead th {\n",
              "        text-align: right;\n",
              "    }\n",
              "</style>\n",
              "<table border=\"1\" class=\"dataframe\">\n",
              "  <thead>\n",
              "    <tr style=\"text-align: right;\">\n",
              "      <th></th>\n",
              "      <th>type</th>\n",
              "      <th>posts</th>\n",
              "      <th>posts2</th>\n",
              "      <th>posts3</th>\n",
              "    </tr>\n",
              "  </thead>\n",
              "  <tbody>\n",
              "    <tr>\n",
              "      <th>4511</th>\n",
              "      <td>ENTJ</td>\n",
              "      <td>'Thanks to all you guys, I really thought I wa...</td>\n",
              "      <td>thank guy think feel good understand struggle ...</td>\n",
              "      <td>thank guy think feel good understand struggle ...</td>\n",
              "    </tr>\n",
              "    <tr>\n",
              "      <th>744</th>\n",
              "      <td>ISTP</td>\n",
              "      <td>'Haha! That must have been it... I need to com...</td>\n",
              "      <td>haha need come chat want discuss type ball mis...</td>\n",
              "      <td>haha need come chat want discuss type ball mis...</td>\n",
              "    </tr>\n",
              "    <tr>\n",
              "      <th>7533</th>\n",
              "      <td>INTP</td>\n",
              "      <td>'When I was younger I was more daring. I lost ...</td>\n",
              "      <td>young daring lose license speed violation sing...</td>\n",
              "      <td>young daring lose license speed violation sing...</td>\n",
              "    </tr>\n",
              "    <tr>\n",
              "      <th>876</th>\n",
              "      <td>INFP</td>\n",
              "      <td>'i have not found love. i have high standards....</td>\n",
              "      <td>find love high depend like friendly try know b...</td>\n",
              "      <td>find love high depend like friendly try know b...</td>\n",
              "    </tr>\n",
              "    <tr>\n",
              "      <th>701</th>\n",
              "      <td>INFJ</td>\n",
              "      <td>'Which fictional character(s) do you relate to...</td>\n",
              "      <td>fictional relate character consider ENFPs sure...</td>\n",
              "      <td>fictional relate character consider ENFPs sure...</td>\n",
              "    </tr>\n",
              "  </tbody>\n",
              "</table>\n",
              "</div>\n",
              "      <button class=\"colab-df-convert\" onclick=\"convertToInteractive('df-372bc8bc-b635-400c-b416-f05ac777dccc')\"\n",
              "              title=\"Convert this dataframe to an interactive table.\"\n",
              "              style=\"display:none;\">\n",
              "        \n",
              "  <svg xmlns=\"http://www.w3.org/2000/svg\" height=\"24px\"viewBox=\"0 0 24 24\"\n",
              "       width=\"24px\">\n",
              "    <path d=\"M0 0h24v24H0V0z\" fill=\"none\"/>\n",
              "    <path d=\"M18.56 5.44l.94 2.06.94-2.06 2.06-.94-2.06-.94-.94-2.06-.94 2.06-2.06.94zm-11 1L8.5 8.5l.94-2.06 2.06-.94-2.06-.94L8.5 2.5l-.94 2.06-2.06.94zm10 10l.94 2.06.94-2.06 2.06-.94-2.06-.94-.94-2.06-.94 2.06-2.06.94z\"/><path d=\"M17.41 7.96l-1.37-1.37c-.4-.4-.92-.59-1.43-.59-.52 0-1.04.2-1.43.59L10.3 9.45l-7.72 7.72c-.78.78-.78 2.05 0 2.83L4 21.41c.39.39.9.59 1.41.59.51 0 1.02-.2 1.41-.59l7.78-7.78 2.81-2.81c.8-.78.8-2.07 0-2.86zM5.41 20L4 18.59l7.72-7.72 1.47 1.35L5.41 20z\"/>\n",
              "  </svg>\n",
              "      </button>\n",
              "      \n",
              "  <style>\n",
              "    .colab-df-container {\n",
              "      display:flex;\n",
              "      flex-wrap:wrap;\n",
              "      gap: 12px;\n",
              "    }\n",
              "\n",
              "    .colab-df-convert {\n",
              "      background-color: #E8F0FE;\n",
              "      border: none;\n",
              "      border-radius: 50%;\n",
              "      cursor: pointer;\n",
              "      display: none;\n",
              "      fill: #1967D2;\n",
              "      height: 32px;\n",
              "      padding: 0 0 0 0;\n",
              "      width: 32px;\n",
              "    }\n",
              "\n",
              "    .colab-df-convert:hover {\n",
              "      background-color: #E2EBFA;\n",
              "      box-shadow: 0px 1px 2px rgba(60, 64, 67, 0.3), 0px 1px 3px 1px rgba(60, 64, 67, 0.15);\n",
              "      fill: #174EA6;\n",
              "    }\n",
              "\n",
              "    [theme=dark] .colab-df-convert {\n",
              "      background-color: #3B4455;\n",
              "      fill: #D2E3FC;\n",
              "    }\n",
              "\n",
              "    [theme=dark] .colab-df-convert:hover {\n",
              "      background-color: #434B5C;\n",
              "      box-shadow: 0px 1px 3px 1px rgba(0, 0, 0, 0.15);\n",
              "      filter: drop-shadow(0px 1px 2px rgba(0, 0, 0, 0.3));\n",
              "      fill: #FFFFFF;\n",
              "    }\n",
              "  </style>\n",
              "\n",
              "      <script>\n",
              "        const buttonEl =\n",
              "          document.querySelector('#df-372bc8bc-b635-400c-b416-f05ac777dccc button.colab-df-convert');\n",
              "        buttonEl.style.display =\n",
              "          google.colab.kernel.accessAllowed ? 'block' : 'none';\n",
              "\n",
              "        async function convertToInteractive(key) {\n",
              "          const element = document.querySelector('#df-372bc8bc-b635-400c-b416-f05ac777dccc');\n",
              "          const dataTable =\n",
              "            await google.colab.kernel.invokeFunction('convertToInteractive',\n",
              "                                                     [key], {});\n",
              "          if (!dataTable) return;\n",
              "\n",
              "          const docLinkHtml = 'Like what you see? Visit the ' +\n",
              "            '<a target=\"_blank\" href=https://colab.research.google.com/notebooks/data_table.ipynb>data table notebook</a>'\n",
              "            + ' to learn more about interactive tables.';\n",
              "          element.innerHTML = '';\n",
              "          dataTable['output_type'] = 'display_data';\n",
              "          await google.colab.output.renderOutput(dataTable, element);\n",
              "          const docLink = document.createElement('div');\n",
              "          docLink.innerHTML = docLinkHtml;\n",
              "          element.appendChild(docLink);\n",
              "        }\n",
              "      </script>\n",
              "    </div>\n",
              "  </div>\n",
              "  "
            ]
          },
          "metadata": {},
          "execution_count": 9
        }
      ]
    },
    {
      "cell_type": "code",
      "source": [
        "all_data_pre=pd.concat([df_train,df_test])"
      ],
      "metadata": {
        "id": "relVG9kV7keX"
      },
      "execution_count": 10,
      "outputs": []
    },
    {
      "cell_type": "markdown",
      "source": [
        "Vectorizing"
      ],
      "metadata": {
        "id": "K-L5YeYGEFf3"
      }
    },
    {
      "cell_type": "code",
      "source": [
        "# Create the transform \n",
        "vectorizer = TfidfVectorizer(ngram_range=(1,1), analyzer='word' ,stop_words='english')\n",
        "all_data_post = vectorizer.fit_transform(all_data_pre['posts3'])"
      ],
      "metadata": {
        "id": "x8y4eGze7onx"
      },
      "execution_count": 11,
      "outputs": []
    },
    {
      "cell_type": "code",
      "source": [
        "# Demerging the train and test dataframe from the all_data dataframe. \n",
        "len_slice = df_train.shape[0] \n",
        "# Slice train data frame from all_data dataframe\n",
        "train = all_data_post[:len_slice]\n",
        "# Slice test data frame from all_data dataframe\n",
        "test = all_data_post[len_slice:]\n",
        "# Target variable\n",
        "y = df_train['type'] "
      ],
      "metadata": {
        "id": "Y9IN6S7p7qxE"
      },
      "execution_count": 12,
      "outputs": []
    },
    {
      "cell_type": "code",
      "source": [
        "print(train)"
      ],
      "metadata": {
        "colab": {
          "base_uri": "https://localhost:8080/"
        },
        "id": "QtSfc1Q2nAeP",
        "outputId": "19d58b11-b515-444a-f084-eab55c7ed937"
      },
      "execution_count": 13,
      "outputs": [
        {
          "output_type": "stream",
          "name": "stdout",
          "text": [
            "  (0, 61280)\t0.04084416260570758\n",
            "  (0, 52134)\t0.048420814629485824\n",
            "  (0, 42956)\t0.03267397213770006\n",
            "  (0, 65052)\t0.04744389524794425\n",
            "  (0, 14690)\t0.04576154988820494\n",
            "  (0, 70856)\t0.019164685557592938\n",
            "  (0, 12696)\t0.012276240458414054\n",
            "  (0, 24025)\t0.01683069304859509\n",
            "  (0, 16324)\t0.02419600858019097\n",
            "  (0, 46538)\t0.05309041729598733\n",
            "  (0, 72487)\t0.06605617420923554\n",
            "  (0, 32816)\t0.042507473887374386\n",
            "  (0, 43057)\t0.03055612218119828\n",
            "  (0, 67300)\t0.049053313444271295\n",
            "  (0, 22797)\t0.05055907835020824\n",
            "  (0, 66328)\t0.02842193997556729\n",
            "  (0, 46482)\t0.03861053925919481\n",
            "  (0, 16904)\t0.03386639088393893\n",
            "  (0, 48639)\t0.02796341990577525\n",
            "  (0, 20175)\t0.03117451819229288\n",
            "  (0, 54297)\t0.06740611853941801\n",
            "  (0, 74333)\t0.02458229868302772\n",
            "  (0, 29655)\t0.01707632166986868\n",
            "  (0, 73414)\t0.050095891430924876\n",
            "  (0, 9603)\t0.05201520431723249\n",
            "  :\t:\n",
            "  (6071, 40011)\t0.01675402596048157\n",
            "  (6071, 60334)\t0.029622037857783497\n",
            "  (6071, 58195)\t0.02716299413652457\n",
            "  (6071, 37826)\t0.10286583746000502\n",
            "  (6071, 14388)\t0.022035661835892225\n",
            "  (6071, 21161)\t0.017722788897282744\n",
            "  (6071, 53327)\t0.013897944092099514\n",
            "  (6071, 28055)\t0.042952720294454905\n",
            "  (6071, 57266)\t0.019677843406674802\n",
            "  (6071, 13105)\t0.059651712206738323\n",
            "  (6071, 35355)\t0.04502180797573488\n",
            "  (6071, 41416)\t0.02939766032088615\n",
            "  (6071, 53957)\t0.02878855325039986\n",
            "  (6071, 77646)\t0.01375024185472824\n",
            "  (6071, 31341)\t0.044109689380681556\n",
            "  (6071, 69475)\t0.021068212002218548\n",
            "  (6071, 819)\t0.027840410941014197\n",
            "  (6071, 24011)\t0.011154247782624891\n",
            "  (6071, 64088)\t0.03221726085065818\n",
            "  (6071, 39666)\t0.07005689460066464\n",
            "  (6071, 40387)\t0.01238332172153731\n",
            "  (6071, 73428)\t0.012531151782361307\n",
            "  (6071, 71374)\t0.012330639968100358\n",
            "  (6071, 39987)\t0.01580523770317777\n",
            "  (6071, 69032)\t0.10098524426666752\n"
          ]
        }
      ]
    },
    {
      "cell_type": "code",
      "source": [
        "print(y)"
      ],
      "metadata": {
        "id": "wzSFvM5pGehd",
        "colab": {
          "base_uri": "https://localhost:8080/"
        },
        "outputId": "69c0c5a4-970c-4cf7-b938-239b36e0098d"
      },
      "execution_count": 14,
      "outputs": [
        {
          "output_type": "stream",
          "name": "stdout",
          "text": [
            "3328    INFP\n",
            "5570    INFJ\n",
            "2108    INFP\n",
            "5991    ESFJ\n",
            "2337    INTJ\n",
            "        ... \n",
            "7871    INFP\n",
            "1158    INTJ\n",
            "5581    ENTJ\n",
            "8629    INTP\n",
            "7403    ESFJ\n",
            "Name: type, Length: 6072, dtype: object\n"
          ]
        }
      ]
    },
    {
      "cell_type": "code",
      "source": [
        "# Applying the encoding to the target variable y\n",
        "mind = y.apply(lambda x: 0 if x[0] == 'I' else 1)\n",
        "energy = y.apply(lambda x: 0 if x[1] == 'S' else 1)\n",
        "nature = y.apply(lambda x: 0 if x[2] == 'F' else 1)\n",
        "tactics = y.apply(lambda x: 0 if x[3] == 'P' else 1)"
      ],
      "metadata": {
        "id": "P01n-UDB7s5k"
      },
      "execution_count": 15,
      "outputs": []
    },
    {
      "cell_type": "markdown",
      "source": [
        "decoding the target variable "
      ],
      "metadata": {
        "id": "6IBNbjo6FCyL"
      }
    },
    {
      "cell_type": "code",
      "source": [
        "def conversion(data):\n",
        "  val=data.values\n",
        "  di=[]\n",
        "  for k in val:\n",
        "    se=\"\"\n",
        "    if(k[0]==0):\n",
        "      se+=\"I\"\n",
        "    else:\n",
        "      se+='E'\n",
        "    if(k[1]==0):\n",
        "      se+=\"S\"\n",
        "    else:\n",
        "      se+='N'\n",
        "    if(k[2]==0):\n",
        "      se+=\"F\"\n",
        "    else:\n",
        "      se+='T'\n",
        "    if(k[3]==0):\n",
        "      se+=\"P\"\n",
        "    else:\n",
        "      se+='J'\n",
        "    di.append(se)\n",
        "  return di"
      ],
      "metadata": {
        "id": "OdPPuEemTiI8"
      },
      "execution_count": 16,
      "outputs": []
    },
    {
      "cell_type": "markdown",
      "source": [
        "Accuracies and reports"
      ],
      "metadata": {
        "id": "Ie30X5lLWlhN"
      }
    },
    {
      "cell_type": "code",
      "source": [
        "def reports(train,train_pred,test,test_pred):\n",
        "  print(\"On Training datasets\")\n",
        "  print(\"Accuracy:\",accuracy_score(train, train_pred))\n",
        "  print('classification report \\n',classification_report(train,train_pred))\n",
        "  print(\"Confusion Matrix \\n \",confusion_matrix(train,train_pred))\n",
        "\n",
        "  print(\"On Test datasets\")\n",
        "  print(\"Accuracy:\",accuracy_score(test, test_pred))\n",
        "  print('classification report \\n',classification_report(test,test_pred))\n",
        "  print(\"Confusion Matrix \\n \",confusion_matrix(test,test_pred))"
      ],
      "metadata": {
        "id": "34uj8riNWlA_"
      },
      "execution_count": 17,
      "outputs": []
    },
    {
      "cell_type": "markdown",
      "source": [
        "# Models"
      ],
      "metadata": {
        "id": "I7ASa6bTFMfL"
      }
    },
    {
      "cell_type": "markdown",
      "source": [
        "Logistic Regression"
      ],
      "metadata": {
        "id": "D18Gdvl8UpoP"
      }
    },
    {
      "cell_type": "code",
      "source": [
        "def Logistic_Regression(train_df, test_df, cate_df):\n",
        "    # Instantiating the object\n",
        "    classifier = LogisticRegression(random_state=0,class_weight='balanced')\n",
        "    classifier.fit(train_df, cate_df)\n",
        "    # Predictions on the train dataframe\n",
        "    prediction_train = pd.DataFrame(classifier.predict(train_df))\n",
        "    # Predictions on the test dataframe\n",
        "    prediction_test = pd.DataFrame(classifier.predict(test_df))\n",
        "    return prediction_train,prediction_test"
      ],
      "metadata": {
        "id": "BuWLaL5578Jn"
      },
      "execution_count": 18,
      "outputs": []
    },
    {
      "cell_type": "code",
      "source": [
        "# Applying the Logistic_Regression function on the category data\n",
        "M_train_prediction,M_test_prediction = Logistic_Regression(train, test, mind)\n",
        "E_train_prediction,E_test_prediction = Logistic_Regression(train, test, energy)\n",
        "N_train_prediction,N_test_prediction = Logistic_Regression(train, test, nature)\n",
        "T_train_prediction,T_test_prediction = Logistic_Regression(train, test, tactics)"
      ],
      "metadata": {
        "id": "POIf69Sq8FR6"
      },
      "execution_count": 19,
      "outputs": []
    },
    {
      "cell_type": "code",
      "source": [
        "# Concatenating our predictions into one dataframe\n",
        "sub_train_1 = pd.concat([M_train_prediction,E_train_prediction,N_train_prediction,T_train_prediction], axis=1)\n",
        "sub_test_1 = pd.concat([M_test_prediction,E_test_prediction,N_test_prediction,T_test_prediction], axis=1)"
      ],
      "metadata": {
        "id": "Nw66PWr08PoW"
      },
      "execution_count": 20,
      "outputs": []
    },
    {
      "cell_type": "code",
      "source": [
        "sub_train_1.columns = [ 'mind', 'energy', 'nature', 'tactics']\n",
        "sub_test_1.columns = [ 'mind', 'energy', 'nature', 'tactics']"
      ],
      "metadata": {
        "id": "9yl8FW508Rxv"
      },
      "execution_count": 21,
      "outputs": []
    },
    {
      "cell_type": "code",
      "source": [
        "sub_train_1.head()"
      ],
      "metadata": {
        "id": "q9iefuUh8U4O",
        "colab": {
          "base_uri": "https://localhost:8080/",
          "height": 206
        },
        "outputId": "e3f0baef-1053-49ec-921e-9cc96f5f76be"
      },
      "execution_count": 22,
      "outputs": [
        {
          "output_type": "execute_result",
          "data": {
            "text/plain": [
              "   mind  energy  nature  tactics\n",
              "0     0       1       0        0\n",
              "1     0       1       0        0\n",
              "2     0       1       0        0\n",
              "3     1       0       1        1\n",
              "4     0       1       1        1"
            ],
            "text/html": [
              "\n",
              "  <div id=\"df-233cdbf0-a346-4053-b3ca-ddc3c8a48858\">\n",
              "    <div class=\"colab-df-container\">\n",
              "      <div>\n",
              "<style scoped>\n",
              "    .dataframe tbody tr th:only-of-type {\n",
              "        vertical-align: middle;\n",
              "    }\n",
              "\n",
              "    .dataframe tbody tr th {\n",
              "        vertical-align: top;\n",
              "    }\n",
              "\n",
              "    .dataframe thead th {\n",
              "        text-align: right;\n",
              "    }\n",
              "</style>\n",
              "<table border=\"1\" class=\"dataframe\">\n",
              "  <thead>\n",
              "    <tr style=\"text-align: right;\">\n",
              "      <th></th>\n",
              "      <th>mind</th>\n",
              "      <th>energy</th>\n",
              "      <th>nature</th>\n",
              "      <th>tactics</th>\n",
              "    </tr>\n",
              "  </thead>\n",
              "  <tbody>\n",
              "    <tr>\n",
              "      <th>0</th>\n",
              "      <td>0</td>\n",
              "      <td>1</td>\n",
              "      <td>0</td>\n",
              "      <td>0</td>\n",
              "    </tr>\n",
              "    <tr>\n",
              "      <th>1</th>\n",
              "      <td>0</td>\n",
              "      <td>1</td>\n",
              "      <td>0</td>\n",
              "      <td>0</td>\n",
              "    </tr>\n",
              "    <tr>\n",
              "      <th>2</th>\n",
              "      <td>0</td>\n",
              "      <td>1</td>\n",
              "      <td>0</td>\n",
              "      <td>0</td>\n",
              "    </tr>\n",
              "    <tr>\n",
              "      <th>3</th>\n",
              "      <td>1</td>\n",
              "      <td>0</td>\n",
              "      <td>1</td>\n",
              "      <td>1</td>\n",
              "    </tr>\n",
              "    <tr>\n",
              "      <th>4</th>\n",
              "      <td>0</td>\n",
              "      <td>1</td>\n",
              "      <td>1</td>\n",
              "      <td>1</td>\n",
              "    </tr>\n",
              "  </tbody>\n",
              "</table>\n",
              "</div>\n",
              "      <button class=\"colab-df-convert\" onclick=\"convertToInteractive('df-233cdbf0-a346-4053-b3ca-ddc3c8a48858')\"\n",
              "              title=\"Convert this dataframe to an interactive table.\"\n",
              "              style=\"display:none;\">\n",
              "        \n",
              "  <svg xmlns=\"http://www.w3.org/2000/svg\" height=\"24px\"viewBox=\"0 0 24 24\"\n",
              "       width=\"24px\">\n",
              "    <path d=\"M0 0h24v24H0V0z\" fill=\"none\"/>\n",
              "    <path d=\"M18.56 5.44l.94 2.06.94-2.06 2.06-.94-2.06-.94-.94-2.06-.94 2.06-2.06.94zm-11 1L8.5 8.5l.94-2.06 2.06-.94-2.06-.94L8.5 2.5l-.94 2.06-2.06.94zm10 10l.94 2.06.94-2.06 2.06-.94-2.06-.94-.94-2.06-.94 2.06-2.06.94z\"/><path d=\"M17.41 7.96l-1.37-1.37c-.4-.4-.92-.59-1.43-.59-.52 0-1.04.2-1.43.59L10.3 9.45l-7.72 7.72c-.78.78-.78 2.05 0 2.83L4 21.41c.39.39.9.59 1.41.59.51 0 1.02-.2 1.41-.59l7.78-7.78 2.81-2.81c.8-.78.8-2.07 0-2.86zM5.41 20L4 18.59l7.72-7.72 1.47 1.35L5.41 20z\"/>\n",
              "  </svg>\n",
              "      </button>\n",
              "      \n",
              "  <style>\n",
              "    .colab-df-container {\n",
              "      display:flex;\n",
              "      flex-wrap:wrap;\n",
              "      gap: 12px;\n",
              "    }\n",
              "\n",
              "    .colab-df-convert {\n",
              "      background-color: #E8F0FE;\n",
              "      border: none;\n",
              "      border-radius: 50%;\n",
              "      cursor: pointer;\n",
              "      display: none;\n",
              "      fill: #1967D2;\n",
              "      height: 32px;\n",
              "      padding: 0 0 0 0;\n",
              "      width: 32px;\n",
              "    }\n",
              "\n",
              "    .colab-df-convert:hover {\n",
              "      background-color: #E2EBFA;\n",
              "      box-shadow: 0px 1px 2px rgba(60, 64, 67, 0.3), 0px 1px 3px 1px rgba(60, 64, 67, 0.15);\n",
              "      fill: #174EA6;\n",
              "    }\n",
              "\n",
              "    [theme=dark] .colab-df-convert {\n",
              "      background-color: #3B4455;\n",
              "      fill: #D2E3FC;\n",
              "    }\n",
              "\n",
              "    [theme=dark] .colab-df-convert:hover {\n",
              "      background-color: #434B5C;\n",
              "      box-shadow: 0px 1px 3px 1px rgba(0, 0, 0, 0.15);\n",
              "      filter: drop-shadow(0px 1px 2px rgba(0, 0, 0, 0.3));\n",
              "      fill: #FFFFFF;\n",
              "    }\n",
              "  </style>\n",
              "\n",
              "      <script>\n",
              "        const buttonEl =\n",
              "          document.querySelector('#df-233cdbf0-a346-4053-b3ca-ddc3c8a48858 button.colab-df-convert');\n",
              "        buttonEl.style.display =\n",
              "          google.colab.kernel.accessAllowed ? 'block' : 'none';\n",
              "\n",
              "        async function convertToInteractive(key) {\n",
              "          const element = document.querySelector('#df-233cdbf0-a346-4053-b3ca-ddc3c8a48858');\n",
              "          const dataTable =\n",
              "            await google.colab.kernel.invokeFunction('convertToInteractive',\n",
              "                                                     [key], {});\n",
              "          if (!dataTable) return;\n",
              "\n",
              "          const docLinkHtml = 'Like what you see? Visit the ' +\n",
              "            '<a target=\"_blank\" href=https://colab.research.google.com/notebooks/data_table.ipynb>data table notebook</a>'\n",
              "            + ' to learn more about interactive tables.';\n",
              "          element.innerHTML = '';\n",
              "          dataTable['output_type'] = 'display_data';\n",
              "          await google.colab.output.renderOutput(dataTable, element);\n",
              "          const docLink = document.createElement('div');\n",
              "          docLink.innerHTML = docLinkHtml;\n",
              "          element.appendChild(docLink);\n",
              "        }\n",
              "      </script>\n",
              "    </div>\n",
              "  </div>\n",
              "  "
            ]
          },
          "metadata": {},
          "execution_count": 22
        }
      ]
    },
    {
      "cell_type": "code",
      "source": [
        "logistic_val=conversion(sub_train_1)\n",
        "logistic_test=conversion(sub_test_1)\n",
        "reports(df_train[\"type\"],logistic_val,df_test[\"type\"],logistic_test)"
      ],
      "metadata": {
        "id": "i7ZZM5p2_OiQ",
        "colab": {
          "base_uri": "https://localhost:8080/"
        },
        "outputId": "a4509392-21be-4fc5-8e92-e843dabba076"
      },
      "execution_count": 23,
      "outputs": [
        {
          "output_type": "stream",
          "name": "stdout",
          "text": [
            "On Training datasets\n",
            "Accuracy: 0.7577404479578392\n",
            "classification report \n",
            "               precision    recall  f1-score   support\n",
            "\n",
            "        ENFJ       0.36      0.56      0.44       133\n",
            "        ENFP       0.77      0.70      0.73       472\n",
            "        ENTJ       0.53      0.69      0.60       162\n",
            "        ENTP       0.77      0.79      0.78       479\n",
            "        ESFJ       0.26      0.38      0.31        29\n",
            "        ESFP       0.16      0.41      0.23        34\n",
            "        ESTJ       0.25      0.59      0.35        27\n",
            "        ESTP       0.36      0.76      0.49        62\n",
            "        INFJ       0.86      0.74      0.80      1029\n",
            "        INFP       0.89      0.81      0.85      1282\n",
            "        INTJ       0.81      0.78      0.80       764\n",
            "        INTP       0.86      0.79      0.82       913\n",
            "        ISFJ       0.54      0.71      0.61       116\n",
            "        ISFP       0.65      0.69      0.67       190\n",
            "        ISTJ       0.58      0.74      0.65       144\n",
            "        ISTP       0.74      0.77      0.75       236\n",
            "\n",
            "    accuracy                           0.76      6072\n",
            "   macro avg       0.59      0.68      0.62      6072\n",
            "weighted avg       0.79      0.76      0.77      6072\n",
            "\n",
            "Confusion Matrix \n",
            "  [[  74   19    8    3    5    1    2    0   13    2    4    0    1    0\n",
            "     1    0]\n",
            " [  37  331    6   34    7   30    2    4    5   13    2    1    0    0\n",
            "     0    0]\n",
            " [   9    1  111   16    0    0    8    2    2    0   10    1    1    0\n",
            "     1    0]\n",
            " [   7   17   26  378    0    2    6   24    0    3    5    8    1    1\n",
            "     0    1]\n",
            " [   0    0    1    0   11    7    4    1    0    1    0    1    2    1\n",
            "     0    0]\n",
            " [   1    2    0    0    2   14    1    9    1    0    1    0    0    2\n",
            "     0    1]\n",
            " [   0    0    0    0    1    2   16    3    1    1    0    0    1    1\n",
            "     1    0]\n",
            " [   0    0    0    0    0    2    9   47    0    0    0    1    2    1\n",
            "     0    0]\n",
            " [  65   13    8    7    3    3    1    0  762   65   55   11   26    4\n",
            "     5    1]\n",
            " [   9   39    3    9    1    4    0    0   56 1037    9   65    5   39\n",
            "     3    3]\n",
            " [   4    0   43    5    0    0    4    2   33    8  598   30    2    0\n",
            "    31    4]\n",
            " [   0    5    2   37    0    1    1    9   10   36   51  721    0    4\n",
            "     5   31]\n",
            " [   0    0    0    0    8    3    1    2    0    2    0    0   82    4\n",
            "    12    2]\n",
            " [   0    2    0    0    2   12    0    5    1    3    0    0   19  131\n",
            "     0   15]\n",
            " [   0    0    0    0    3    3    8    3    1    0    0    0   10    4\n",
            "   107    5]\n",
            " [   0    0    0    1    0    2    2   19    0    0    1    2    0   10\n",
            "    18  181]]\n",
            "On Test datasets\n",
            "Accuracy: 0.5708797541298501\n",
            "classification report \n",
            "               precision    recall  f1-score   support\n",
            "\n",
            "        ENFJ       0.26      0.39      0.31        57\n",
            "        ENFP       0.58      0.44      0.50       203\n",
            "        ENTJ       0.25      0.33      0.29        69\n",
            "        ENTP       0.58      0.51      0.54       206\n",
            "        ESFJ       0.23      0.23      0.23        13\n",
            "        ESFP       0.00      0.00      0.00        14\n",
            "        ESTJ       0.05      0.08      0.06        12\n",
            "        ESTP       0.24      0.48      0.32        27\n",
            "        INFJ       0.71      0.59      0.64       441\n",
            "        INFP       0.71      0.71      0.71       550\n",
            "        INTJ       0.58      0.59      0.59       327\n",
            "        INTP       0.62      0.67      0.64       391\n",
            "        ISFJ       0.39      0.44      0.42        50\n",
            "        ISFP       0.45      0.44      0.45        81\n",
            "        ISTJ       0.34      0.31      0.32        61\n",
            "        ISTP       0.44      0.50      0.47       101\n",
            "\n",
            "    accuracy                           0.57      2603\n",
            "   macro avg       0.40      0.42      0.41      2603\n",
            "weighted avg       0.59      0.57      0.58      2603\n",
            "\n",
            "Confusion Matrix \n",
            "  [[ 22   7   2   1   2   2   2   0   4   6   3   2   2   0   1   1]\n",
            " [ 17  89  11  15   1  10   2   2  12  29   4   6   0   1   1   3]\n",
            " [  1   1  23   9   0   1   3   3   1   4  18   2   1   1   0   1]\n",
            " [  6  14  19 105   1   1   1  10   1   8  10  23   1   1   2   3]\n",
            " [  1   0   0   0   3   1   1   0   2   1   0   0   3   1   0   0]\n",
            " [  0   3   1   1   0   0   1   1   1   0   1   3   0   2   0   0]\n",
            " [  1   1   1   0   0   1   1   2   0   1   0   3   0   0   1   0]\n",
            " [  0   1   1   0   0   2   1  13   1   0   0   3   0   0   2   3]\n",
            " [ 28  10   5   6   2   0   0   0 260  50  34  22  13   5   3   3]\n",
            " [  2  22   0   6   0   3   1   4  46 388  12  34   2  18   5   7]\n",
            " [  4   1  21  13   0   2   3   0  18  12 193  38   3   0  11   8]\n",
            " [  0   0   4  21   0   1   1   3   9  24  43 262   0   1   3  19]\n",
            " [  2   1   0   0   0   1   0   0   5   4   0   5  22   7   2   1]\n",
            " [  0   3   0   2   2   3   0   3   3  13   3   3   4  36   0   6]\n",
            " [  0   0   2   0   2   3   4   4   3   3   4   2   4   2  19   9]\n",
            " [  1   0   1   2   0   1   1  10   0   4   5  14   1   5   6  50]]\n"
          ]
        }
      ]
    },
    {
      "cell_type": "markdown",
      "source": [
        "Random_forest"
      ],
      "metadata": {
        "id": "UlCsOQxATSeh"
      }
    },
    {
      "cell_type": "code",
      "source": [
        "from sklearn.ensemble import RandomForestClassifier\n",
        "def Randomforest_Classifier(train_df, test_df, cate_df):\n",
        "  rfc = RandomForestClassifier(n_estimators=30, min_samples_leaf=50, oob_score=True, n_jobs= -1, random_state=123)\n",
        "  rfc.fit(train_df, cate_df)\n",
        "  # Predictions on the train dataframe\n",
        "  prediction_train = pd.DataFrame( rfc.predict(train_df))\n",
        "    # Predictions on the test dataframe\n",
        "  prediction_test = pd.DataFrame( rfc.predict(test_df))\n",
        "  return prediction_train,prediction_test"
      ],
      "metadata": {
        "id": "8w7pjP7oTSKe"
      },
      "execution_count": 24,
      "outputs": []
    },
    {
      "cell_type": "code",
      "source": [
        "# Applying the Logistic_Regression function on the mind category\n",
        "M_train_prediction3,M_test_prediction3 =Randomforest_Classifier(train, test, mind)\n",
        "E_train_prediction3,E_test_prediction3 =Randomforest_Classifier(train, test, energy)\n",
        "N_train_prediction3,N_test_prediction3 =Randomforest_Classifier(train, test, nature)\n",
        "T_train_prediction3,T_test_prediction3 =Randomforest_Classifier(train, test, tactics)"
      ],
      "metadata": {
        "id": "6xM6mIUMgxby"
      },
      "execution_count": 25,
      "outputs": []
    },
    {
      "cell_type": "code",
      "source": [
        "# Concatenating our predictions into one dataframe\n",
        "sub_train_3= pd.concat([M_train_prediction3,E_train_prediction3,N_train_prediction3,T_train_prediction3], axis=1)\n",
        "sub_test_3= pd.concat([M_test_prediction3,E_test_prediction3,N_test_prediction3,T_test_prediction3], axis=1)"
      ],
      "metadata": {
        "id": "IL1klLBdhFgw"
      },
      "execution_count": 26,
      "outputs": []
    },
    {
      "cell_type": "code",
      "source": [
        "rf_val=conversion(sub_train_3)\n",
        "rf_test=conversion(sub_test_3)\n",
        "reports(df_train[\"type\"],rf_val,df_test[\"type\"],rf_test)"
      ],
      "metadata": {
        "id": "_khx4l67hNdU",
        "colab": {
          "base_uri": "https://localhost:8080/"
        },
        "outputId": "d58c18ee-baad-434c-d296-6dd6a0660190"
      },
      "execution_count": 27,
      "outputs": [
        {
          "output_type": "stream",
          "name": "stdout",
          "text": [
            "On Training datasets\n",
            "Accuracy: 0.30154808959156787\n",
            "classification report \n",
            "               precision    recall  f1-score   support\n",
            "\n",
            "        ENFJ       0.00      0.00      0.00       133\n",
            "        ENFP       0.00      0.00      0.00       472\n",
            "        ENTJ       0.00      0.00      0.00       162\n",
            "        ENTP       0.00      0.00      0.00       479\n",
            "        ESFJ       0.00      0.00      0.00        29\n",
            "        ESFP       0.00      0.00      0.00        34\n",
            "        ESTJ       0.00      0.00      0.00        27\n",
            "        ESTP       0.00      0.00      0.00        62\n",
            "        INFJ       0.55      0.01      0.01      1029\n",
            "        INFP       0.28      0.95      0.43      1282\n",
            "        INTJ       0.62      0.01      0.02       764\n",
            "        INTP       0.35      0.65      0.46       913\n",
            "        ISFJ       0.00      0.00      0.00       116\n",
            "        ISFP       0.00      0.00      0.00       190\n",
            "        ISTJ       0.00      0.00      0.00       144\n",
            "        ISTP       0.00      0.00      0.00       236\n",
            "\n",
            "    accuracy                           0.30      6072\n",
            "   macro avg       0.11      0.10      0.06      6072\n",
            "weighted avg       0.28      0.30      0.16      6072\n",
            "\n",
            "Confusion Matrix \n",
            "  [[   0    0    0    0    0    0    0    0    0  127    0    6    0    0\n",
            "     0    0]\n",
            " [   0    0    0    0    0    0    0    0    0  448    0   24    0    0\n",
            "     0    0]\n",
            " [   0    0    0    0    0    0    0    0    0   66    5   91    0    0\n",
            "     0    0]\n",
            " [   0    0    0    0    0    0    0    0    0  240    0  239    0    0\n",
            "     0    0]\n",
            " [   0    0    0    0    0    0    0    0    0   27    0    2    0    0\n",
            "     0    0]\n",
            " [   0    0    0    0    0    0    0    0    0   29    0    5    0    0\n",
            "     0    0]\n",
            " [   0    0    0    0    0    0    0    0    0   18    0    9    0    0\n",
            "     0    0]\n",
            " [   0    0    0    0    0    0    0    0    0   41    0   21    0    0\n",
            "     0    0]\n",
            " [   0    0    0    0    0    0    0    0    6  965    0   58    0    0\n",
            "     0    0]\n",
            " [   0    0    0    0    0    0    0    0    0 1223    0   59    0    0\n",
            "     0    0]\n",
            " [   0    0    0    0    0    0    0    0    5  363    8  388    0    0\n",
            "     0    0]\n",
            " [   0    0    0    0    0    0    0    0    0  319    0  594    0    0\n",
            "     0    0]\n",
            " [   0    0    0    0    0    0    0    0    0  108    0    8    0    0\n",
            "     0    0]\n",
            " [   0    0    0    0    0    0    0    0    0  177    0   13    0    0\n",
            "     0    0]\n",
            " [   0    0    0    0    0    0    0    0    0   90    0   54    0    0\n",
            "     0    0]\n",
            " [   0    0    0    0    0    0    0    0    0  117    0  119    0    0\n",
            "     0    0]]\n",
            "On Test datasets\n",
            "Accuracy: 0.2819823280829812\n",
            "classification report \n",
            "               precision    recall  f1-score   support\n",
            "\n",
            "        ENFJ       0.00      0.00      0.00        57\n",
            "        ENFP       0.00      0.00      0.00       203\n",
            "        ENTJ       0.00      0.00      0.00        69\n",
            "        ENTP       0.00      0.00      0.00       206\n",
            "        ESFJ       0.00      0.00      0.00        13\n",
            "        ESFP       0.00      0.00      0.00        14\n",
            "        ESTJ       0.00      0.00      0.00        12\n",
            "        ESTP       0.00      0.00      0.00        27\n",
            "        INFJ       0.00      0.00      0.00       441\n",
            "        INFP       0.27      0.93      0.41       550\n",
            "        INTJ       1.00      0.00      0.01       327\n",
            "        INTP       0.33      0.57      0.42       391\n",
            "        ISFJ       0.00      0.00      0.00        50\n",
            "        ISFP       0.00      0.00      0.00        81\n",
            "        ISTJ       0.00      0.00      0.00        61\n",
            "        ISTP       0.00      0.00      0.00       101\n",
            "\n",
            "    accuracy                           0.28      2603\n",
            "   macro avg       0.10      0.09      0.05      2603\n",
            "weighted avg       0.23      0.28      0.15      2603\n",
            "\n",
            "Confusion Matrix \n",
            "  [[  0   0   0   0   0   0   0   0   0  52   0   5   0   0   0   0]\n",
            " [  0   0   0   0   0   0   0   0   1 182   0  20   0   0   0   0]\n",
            " [  0   0   0   0   0   0   0   0   0  41   0  28   0   0   0   0]\n",
            " [  0   0   0   0   0   0   0   0   0 125   0  81   0   0   0   0]\n",
            " [  0   0   0   0   0   0   0   0   0  13   0   0   0   0   0   0]\n",
            " [  0   0   0   0   0   0   0   0   0  10   0   4   0   0   0   0]\n",
            " [  0   0   0   0   0   0   0   0   0   9   0   3   0   0   0   0]\n",
            " [  0   0   0   0   0   0   0   0   0  16   0  11   0   0   0   0]\n",
            " [  0   0   0   0   0   0   0   0   0 405   0  36   0   0   0   0]\n",
            " [  0   0   0   0   0   0   0   0   0 509   0  41   0   0   0   0]\n",
            " [  0   0   0   0   0   0   0   0   1 179   1 146   0   0   0   0]\n",
            " [  0   0   0   0   0   0   0   0   0 167   0 224   0   0   0   0]\n",
            " [  0   0   0   0   0   0   0   0   0  45   0   5   0   0   0   0]\n",
            " [  0   0   0   0   0   0   0   0   0  69   0  12   0   0   0   0]\n",
            " [  0   0   0   0   0   0   0   0   0  41   0  20   0   0   0   0]\n",
            " [  0   0   0   0   0   0   0   0   0  57   0  44   0   0   0   0]]\n"
          ]
        }
      ]
    },
    {
      "cell_type": "markdown",
      "source": [
        "LightGBM"
      ],
      "metadata": {
        "id": "U6Tn0OzNh1Zd"
      }
    },
    {
      "cell_type": "code",
      "source": [
        "import lightgbm as lgb\n",
        "def lgbm_classifier(train_df, test_df, cate_df):\n",
        "  m1 = lgb.LGBMClassifier(n_estimators=100, min_samples_leaf=50, oob_score=True, n_jobs= -1, random_state=42)\n",
        "  m1.fit(train_df,cate_df)\n",
        "  # Predictions on the train dataframe\n",
        "  prediction_train = pd.DataFrame(m1.predict(train_df))\n",
        "    # Predictions on the test dataframe\n",
        "  prediction_test = pd.DataFrame(m1.predict(test_df))\n",
        "  return prediction_train,prediction_test"
      ],
      "metadata": {
        "id": "Vic4_C11he86"
      },
      "execution_count": 28,
      "outputs": []
    },
    {
      "cell_type": "code",
      "source": [
        "# Applying the Logistic_Regression function on the mind category\n",
        "M_train_prediction4,M_test_prediction4 =lgbm_classifier(train, test, mind)\n",
        "E_train_prediction4,E_test_prediction4 =lgbm_classifier(train, test, energy)\n",
        "N_train_prediction4,N_test_prediction4 =lgbm_classifier(train, test, nature)\n",
        "T_train_prediction4,T_test_prediction4 =lgbm_classifier(train, test, tactics)"
      ],
      "metadata": {
        "id": "6iO40jGciRqt"
      },
      "execution_count": 29,
      "outputs": []
    },
    {
      "cell_type": "code",
      "source": [
        "# Concatenating our predictions into one dataframe\n",
        "sub_train_4= pd.concat([M_train_prediction4,E_train_prediction4,N_train_prediction4,T_train_prediction4], axis=1)\n",
        "sub_test_4= pd.concat([M_test_prediction4,E_test_prediction4,N_test_prediction4,T_test_prediction4], axis=1)"
      ],
      "metadata": {
        "id": "lzDe9bGsiTua"
      },
      "execution_count": 30,
      "outputs": []
    },
    {
      "cell_type": "code",
      "source": [
        "lg_val=conversion(sub_train_4)\n",
        "lg_test=conversion(sub_test_4)\n",
        "reports(df_train[\"type\"],lg_val,df_test[\"type\"],lg_test)"
      ],
      "metadata": {
        "id": "SmUZle45iWjS",
        "colab": {
          "base_uri": "https://localhost:8080/"
        },
        "outputId": "44bcc8c4-0889-4a15-919b-7fda2cdc0d48"
      },
      "execution_count": 31,
      "outputs": [
        {
          "output_type": "stream",
          "name": "stdout",
          "text": [
            "On Training datasets\n",
            "Accuracy: 0.9881422924901185\n",
            "classification report \n",
            "               precision    recall  f1-score   support\n",
            "\n",
            "        ENFJ       0.97      0.98      0.98       133\n",
            "        ENFP       0.99      0.99      0.99       472\n",
            "        ENTJ       0.99      0.98      0.98       162\n",
            "        ENTP       0.99      0.99      0.99       479\n",
            "        ESFJ       0.90      0.90      0.90        29\n",
            "        ESFP       0.94      0.94      0.94        34\n",
            "        ESTJ       0.96      0.93      0.94        27\n",
            "        ESTP       0.97      0.98      0.98        62\n",
            "        INFJ       1.00      0.98      0.99      1029\n",
            "        INFP       0.98      1.00      0.99      1282\n",
            "        INTJ       0.99      0.99      0.99       764\n",
            "        INTP       0.99      0.98      0.99       913\n",
            "        ISFJ       1.00      1.00      1.00       116\n",
            "        ISFP       0.99      1.00      0.99       190\n",
            "        ISTJ       1.00      0.97      0.99       144\n",
            "        ISTP       0.98      0.99      0.99       236\n",
            "\n",
            "    accuracy                           0.99      6072\n",
            "   macro avg       0.98      0.98      0.98      6072\n",
            "weighted avg       0.99      0.99      0.99      6072\n",
            "\n",
            "Confusion Matrix \n",
            "  [[ 131    2    0    0    0    0    0    0    0    0    0    0    0    0\n",
            "     0    0]\n",
            " [   3  467    0    1    0    0    0    0    0    1    0    0    0    0\n",
            "     0    0]\n",
            " [   1    0  158    3    0    0    0    0    0    0    0    0    0    0\n",
            "     0    0]\n",
            " [   0    1    1  475    0    0    0    0    0    0    0    2    0    0\n",
            "     0    0]\n",
            " [   0    0    0    0   26    2    1    0    0    0    0    0    0    0\n",
            "     0    0]\n",
            " [   0    0    0    0    1   32    0    1    0    0    0    0    0    0\n",
            "     0    0]\n",
            " [   0    0    0    0    1    0   25    1    0    0    0    0    0    0\n",
            "     0    0]\n",
            " [   0    0    0    0    1    0    0   61    0    0    0    0    0    0\n",
            "     0    0]\n",
            " [   0    0    0    0    0    0    0    0 1011   15    2    1    0    0\n",
            "     0    0]\n",
            " [   0    0    0    0    0    0    0    0    2 1278    0    2    0    0\n",
            "     0    0]\n",
            " [   0    0    0    0    0    0    0    0    3    0  757    4    0    0\n",
            "     0    0]\n",
            " [   0    0    0    0    0    0    0    0    0    7    7  899    0    0\n",
            "     0    0]\n",
            " [   0    0    0    0    0    0    0    0    0    0    0    0  116    0\n",
            "     0    0]\n",
            " [   0    0    0    0    0    0    0    0    0    0    0    0    0  190\n",
            "     0    0]\n",
            " [   0    0    0    0    0    0    0    0    0    0    0    0    0    0\n",
            "   140    4]\n",
            " [   0    0    0    0    0    0    0    0    0    0    0    0    0    2\n",
            "     0  234]]\n",
            "On Test datasets\n",
            "Accuracy: 0.6016135228582405\n",
            "classification report \n",
            "               precision    recall  f1-score   support\n",
            "\n",
            "        ENFJ       0.39      0.30      0.34        57\n",
            "        ENFP       0.65      0.49      0.56       203\n",
            "        ENTJ       0.41      0.22      0.28        69\n",
            "        ENTP       0.61      0.48      0.54       206\n",
            "        ESFJ       0.00      0.00      0.00        13\n",
            "        ESFP       0.00      0.00      0.00        14\n",
            "        ESTJ       0.00      0.00      0.00        12\n",
            "        ESTP       0.80      0.15      0.25        27\n",
            "        INFJ       0.65      0.67      0.66       441\n",
            "        INFP       0.63      0.80      0.71       550\n",
            "        INTJ       0.59      0.62      0.60       327\n",
            "        INTP       0.57      0.76      0.65       391\n",
            "        ISFJ       0.48      0.30      0.37        50\n",
            "        ISFP       0.47      0.26      0.33        81\n",
            "        ISTJ       0.55      0.20      0.29        61\n",
            "        ISTP       0.63      0.46      0.53       101\n",
            "\n",
            "    accuracy                           0.60      2603\n",
            "   macro avg       0.46      0.36      0.38      2603\n",
            "weighted avg       0.59      0.60      0.58      2603\n",
            "\n",
            "Confusion Matrix \n",
            "  [[ 17   6   0   2   0   2   0   0  10  11   2   2   1   2   1   1]\n",
            " [ 10  99   2   9   0   1   0   1  19  41   9  10   0   1   0   1]\n",
            " [  3   2  15   8   0   0   0   0   5   3  19   9   2   1   0   2]\n",
            " [  1  15   3  99   0   0   1   0  13  14  17  41   0   1   0   1]\n",
            " [  2   0   0   1   0   1   0   0   3   5   0   0   1   0   0   0]\n",
            " [  0   2   3   0   0   0   0   0   1   2   1   4   0   1   0   0]\n",
            " [  1   0   0   1   0   0   0   0   1   3   1   3   1   1   0   0]\n",
            " [  0   1   0   2   0   1   0   4   1   4   1   8   1   0   1   3]\n",
            " [  6   6   1   2   0   0   0   0 297  73  27  25   1   1   0   2]\n",
            " [  1  10   1   7   0   0   0   0  38 442  13  29   0   4   1   4]\n",
            " [  2   5   9  11   0   0   0   0  32  21 203  37   1   0   3   3]\n",
            " [  0   0   2  14   0   0   0   0  10  33  32 296   0   0   0   4]\n",
            " [  0   1   0   0   1   1   0   0  13   5   1   5  15   6   1   1]\n",
            " [  1   3   0   1   0   0   1   0   2  31   3   9   5  21   2   2]\n",
            " [  0   2   0   2   1   1   0   0   8   5  14  10   3   0  12   3]\n",
            " [  0   1   1   2   0   0   0   0   3   9   4  28   0   6   1  46]]\n"
          ]
        }
      ]
    },
    {
      "cell_type": "markdown",
      "source": [
        "Multinomial Naive Bayes"
      ],
      "metadata": {
        "id": "ttb2P8Xlk7y9"
      }
    },
    {
      "cell_type": "code",
      "source": [
        "from sklearn.naive_bayes import MultinomialNB\n",
        "def multinomial(train_df, test_df, cate_df):\n",
        "  gnb=MultinomialNB()\n",
        "  gnb.fit(train_df,cate_df)\n",
        "  # Predictions on the train dataframe\n",
        "  prediction_train = pd.DataFrame(gnb.predict(train_df))\n",
        "    # Predictions on the test dataframe\n",
        "  prediction_test = pd.DataFrame(gnb.predict(test_df))\n",
        "  return prediction_train,prediction_test"
      ],
      "metadata": {
        "id": "83Rdx_bFk6ze"
      },
      "execution_count": 32,
      "outputs": []
    },
    {
      "cell_type": "code",
      "source": [
        "# Applying the Logistic_Regression function on the mind category\n",
        "M_train_prediction5,M_test_prediction5 =multinomial(train, test, mind)\n",
        "E_train_prediction5,E_test_prediction5 =multinomial(train, test, energy)\n",
        "N_train_prediction5,N_test_prediction5 =multinomial(train, test, nature)\n",
        "T_train_prediction5,T_test_prediction5 =multinomial(train, test, tactics)"
      ],
      "metadata": {
        "id": "EimF2D2ElVCJ"
      },
      "execution_count": 33,
      "outputs": []
    },
    {
      "cell_type": "code",
      "source": [
        "# Concatenating our predictions into one dataframe\n",
        "sub_train_5= pd.concat([M_train_prediction5,E_train_prediction5,N_train_prediction5,T_train_prediction5], axis=1)\n",
        "sub_test_5= pd.concat([M_test_prediction5,E_test_prediction5,N_test_prediction5,T_test_prediction5], axis=1)"
      ],
      "metadata": {
        "id": "sMK3uCXZlnPf"
      },
      "execution_count": 34,
      "outputs": []
    },
    {
      "cell_type": "code",
      "source": [
        "gnb_val=conversion(sub_train_5)\n",
        "gnb_test=conversion(sub_test_5)\n",
        "reports(df_train[\"type\"],gnb_val,df_test[\"type\"],gnb_test)"
      ],
      "metadata": {
        "id": "Uk4Y8UK9lu6q",
        "colab": {
          "base_uri": "https://localhost:8080/"
        },
        "outputId": "6b405ba6-769b-4b18-99a5-37c9cdf1fce3"
      },
      "execution_count": 35,
      "outputs": [
        {
          "output_type": "stream",
          "name": "stdout",
          "text": [
            "On Training datasets\n",
            "Accuracy: 0.25049407114624506\n",
            "classification report \n",
            "               precision    recall  f1-score   support\n",
            "\n",
            "        ENFJ       0.00      0.00      0.00       133\n",
            "        ENFP       0.00      0.00      0.00       472\n",
            "        ENTJ       0.00      0.00      0.00       162\n",
            "        ENTP       0.00      0.00      0.00       479\n",
            "        ESFJ       0.00      0.00      0.00        29\n",
            "        ESFP       0.00      0.00      0.00        34\n",
            "        ESTJ       0.00      0.00      0.00        27\n",
            "        ESTP       0.00      0.00      0.00        62\n",
            "        INFJ       0.00      0.00      0.00      1029\n",
            "        INFP       0.24      1.00      0.38      1282\n",
            "        INTJ       0.00      0.00      0.00       764\n",
            "        INTP       0.38      0.27      0.31       913\n",
            "        ISFJ       0.00      0.00      0.00       116\n",
            "        ISFP       0.00      0.00      0.00       190\n",
            "        ISTJ       0.00      0.00      0.00       144\n",
            "        ISTP       0.00      0.00      0.00       236\n",
            "\n",
            "    accuracy                           0.25      6072\n",
            "   macro avg       0.04      0.08      0.04      6072\n",
            "weighted avg       0.11      0.25      0.13      6072\n",
            "\n",
            "Confusion Matrix \n",
            "  [[   0    0    0    0    0    0    0    0    0  133    0    0    0    0\n",
            "     0    0]\n",
            " [   0    0    0    0    0    0    0    0    0  471    0    1    0    0\n",
            "     0    0]\n",
            " [   0    0    0    0    0    0    0    0    0  111    0   51    0    0\n",
            "     0    0]\n",
            " [   0    0    0    0    0    0    0    0    0  379    0  100    0    0\n",
            "     0    0]\n",
            " [   0    0    0    0    0    0    0    0    0   29    0    0    0    0\n",
            "     0    0]\n",
            " [   0    0    0    0    0    0    0    0    0   33    0    1    0    0\n",
            "     0    0]\n",
            " [   0    0    0    0    0    0    0    0    0   23    0    4    0    0\n",
            "     0    0]\n",
            " [   0    0    0    0    0    0    0    0    0   60    0    2    0    0\n",
            "     0    0]\n",
            " [   0    0    0    0    0    0    0    0    0 1028    0    1    0    0\n",
            "     0    0]\n",
            " [   0    0    0    0    0    0    0    0    0 1278    0    4    0    0\n",
            "     0    0]\n",
            " [   0    0    0    0    0    0    0    0    0  577    0  187    0    0\n",
            "     0    0]\n",
            " [   0    0    0    0    0    0    0    0    0  670    0  243    0    0\n",
            "     0    0]\n",
            " [   0    0    0    0    0    0    0    0    0  116    0    0    0    0\n",
            "     0    0]\n",
            " [   0    0    0    0    0    0    0    0    0  190    0    0    0    0\n",
            "     0    0]\n",
            " [   0    0    0    0    0    0    0    0    0  130    0   14    0    0\n",
            "     0    0]\n",
            " [   0    0    0    0    0    0    0    0    0  198    0   38    0    0\n",
            "     0    0]]\n",
            "On Test datasets\n",
            "Accuracy: 0.22973492124471764\n",
            "classification report \n",
            "               precision    recall  f1-score   support\n",
            "\n",
            "        ENFJ       0.00      0.00      0.00        57\n",
            "        ENFP       0.00      0.00      0.00       203\n",
            "        ENTJ       0.00      0.00      0.00        69\n",
            "        ENTP       0.00      0.00      0.00       206\n",
            "        ESFJ       0.00      0.00      0.00        13\n",
            "        ESFP       0.00      0.00      0.00        14\n",
            "        ESTJ       0.00      0.00      0.00        12\n",
            "        ESTP       0.00      0.00      0.00        27\n",
            "        INFJ       0.00      0.00      0.00       441\n",
            "        INFP       0.22      1.00      0.36       550\n",
            "        INTJ       0.00      0.00      0.00       327\n",
            "        INTP       0.40      0.13      0.19       391\n",
            "        ISFJ       0.00      0.00      0.00        50\n",
            "        ISFP       0.00      0.00      0.00        81\n",
            "        ISTJ       0.00      0.00      0.00        61\n",
            "        ISTP       0.00      0.00      0.00       101\n",
            "\n",
            "    accuracy                           0.23      2603\n",
            "   macro avg       0.04      0.07      0.03      2603\n",
            "weighted avg       0.11      0.23      0.11      2603\n",
            "\n",
            "Confusion Matrix \n",
            "  [[  0   0   0   0   0   0   0   0   0  57   0   0   0   0   0   0]\n",
            " [  0   0   0   0   0   0   0   0   0 202   0   1   0   0   0   0]\n",
            " [  0   0   0   0   0   0   0   0   0  65   0   4   0   0   0   0]\n",
            " [  0   0   0   0   0   0   0   0   0 190   0  16   0   0   0   0]\n",
            " [  0   0   0   0   0   0   0   0   0  13   0   0   0   0   0   0]\n",
            " [  0   0   0   0   0   0   0   0   0  14   0   0   0   0   0   0]\n",
            " [  0   0   0   0   0   0   0   0   0  12   0   0   0   0   0   0]\n",
            " [  0   0   0   0   0   0   0   0   0  26   0   1   0   0   0   0]\n",
            " [  0   0   0   0   0   0   0   0   0 438   0   3   0   0   0   0]\n",
            " [  0   0   0   0   0   0   0   0   0 548   0   2   0   0   0   0]\n",
            " [  0   0   0   0   0   0   0   0   0 285   0  42   0   0   0   0]\n",
            " [  0   0   0   0   0   0   0   0   0 341   0  50   0   0   0   0]\n",
            " [  0   0   0   0   0   0   0   0   0  50   0   0   0   0   0   0]\n",
            " [  0   0   0   0   0   0   0   0   0  81   0   0   0   0   0   0]\n",
            " [  0   0   0   0   0   0   0   0   0  61   0   0   0   0   0   0]\n",
            " [  0   0   0   0   0   0   0   0   0  96   0   5   0   0   0   0]]\n"
          ]
        }
      ]
    }
  ],
  "metadata": {
    "colab": {
      "name": "PRM_BONUS_PROJECT2(mbti presonality predictor).ipynb",
      "provenance": [],
      "collapsed_sections": []
    },
    "kernelspec": {
      "display_name": "Python 3",
      "name": "python3"
    },
    "language_info": {
      "name": "python"
    }
  },
  "nbformat": 4,
  "nbformat_minor": 0
}